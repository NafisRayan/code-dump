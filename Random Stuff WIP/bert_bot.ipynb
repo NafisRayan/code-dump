{
  "cells": [
    {
      "cell_type": "code",
      "execution_count": 2,
      "metadata": {
        "colab": {
          "base_uri": "https://localhost:8080/"
        },
        "id": "iQk4V24FQxgU",
        "outputId": "b8f386bd-d7b6-43f8-9c55-af76b421fe9a"
      },
      "outputs": [
        {
          "name": "stderr",
          "output_type": "stream",
          "text": [
            "The system cannot find the path specified.\n"
          ]
        },
        {
          "ename": "OSError",
          "evalue": "[WinError 1314] A required privilege is not held by the client: '/kaggle/input' -> '..\\\\input'",
          "output_type": "error",
          "traceback": [
            "\u001b[1;31m---------------------------------------------------------------------------\u001b[0m",
            "\u001b[1;31mOSError\u001b[0m                                   Traceback (most recent call last)",
            "\u001b[1;32m~\\AppData\\Local\\Temp/ipykernel_17324/860546309.py\u001b[0m in \u001b[0;36m<module>\u001b[1;34m\u001b[0m\n\u001b[0;32m     29\u001b[0m \u001b[1;33m\u001b[0m\u001b[0m\n\u001b[0;32m     30\u001b[0m \u001b[1;32mtry\u001b[0m\u001b[1;33m:\u001b[0m\u001b[1;33m\u001b[0m\u001b[1;33m\u001b[0m\u001b[0m\n\u001b[1;32m---> 31\u001b[1;33m   \u001b[0mos\u001b[0m\u001b[1;33m.\u001b[0m\u001b[0msymlink\u001b[0m\u001b[1;33m(\u001b[0m\u001b[0mKAGGLE_INPUT_PATH\u001b[0m\u001b[1;33m,\u001b[0m \u001b[0mos\u001b[0m\u001b[1;33m.\u001b[0m\u001b[0mpath\u001b[0m\u001b[1;33m.\u001b[0m\u001b[0mjoin\u001b[0m\u001b[1;33m(\u001b[0m\u001b[1;34m\"..\"\u001b[0m\u001b[1;33m,\u001b[0m \u001b[1;34m'input'\u001b[0m\u001b[1;33m)\u001b[0m\u001b[1;33m,\u001b[0m \u001b[0mtarget_is_directory\u001b[0m\u001b[1;33m=\u001b[0m\u001b[1;32mTrue\u001b[0m\u001b[1;33m)\u001b[0m\u001b[1;33m\u001b[0m\u001b[1;33m\u001b[0m\u001b[0m\n\u001b[0m\u001b[0;32m     32\u001b[0m \u001b[1;32mexcept\u001b[0m \u001b[0mFileExistsError\u001b[0m\u001b[1;33m:\u001b[0m\u001b[1;33m\u001b[0m\u001b[1;33m\u001b[0m\u001b[0m\n\u001b[0;32m     33\u001b[0m   \u001b[1;32mpass\u001b[0m\u001b[1;33m\u001b[0m\u001b[1;33m\u001b[0m\u001b[0m\n",
            "\u001b[1;31mOSError\u001b[0m: [WinError 1314] A required privilege is not held by the client: '/kaggle/input' -> '..\\\\input'"
          ]
        }
      ],
      "source": [
        "\n",
        "# IMPORTANT: RUN THIS CELL IN ORDER TO IMPORT YOUR KAGGLE DATA SOURCES\n",
        "# TO THE CORRECT LOCATION (/kaggle/input) IN YOUR NOTEBOOK,\n",
        "# THEN FEEL FREE TO DELETE THIS CELL.\n",
        "# NOTE: THIS NOTEBOOK ENVIRONMENT DIFFERS FROM KAGGLE'S PYTHON\n",
        "# ENVIRONMENT SO THERE MAY BE MISSING LIBRARIES USED BY YOUR\n",
        "# NOTEBOOK.\n",
        "\n",
        "import os\n",
        "import sys\n",
        "from tempfile import NamedTemporaryFile\n",
        "from urllib.request import urlopen\n",
        "from urllib.parse import unquote, urlparse\n",
        "from urllib.error import HTTPError\n",
        "from zipfile import ZipFile\n",
        "import tarfile\n",
        "import shutil\n",
        "\n",
        "CHUNK_SIZE = 40960\n",
        "DATA_SOURCE_MAPPING = 'glove-twitter:https%3A%2F%2Fstorage.googleapis.com%2Fkaggle-data-sets%2F467821%2F877819%2Fbundle%2Farchive.zip%3FX-Goog-Algorithm%3DGOOG4-RSA-SHA256%26X-Goog-Credential%3Dgcp-kaggle-com%2540kaggle-161607.iam.gserviceaccount.com%252F20240708%252Fauto%252Fstorage%252Fgoog4_request%26X-Goog-Date%3D20240708T121327Z%26X-Goog-Expires%3D259200%26X-Goog-SignedHeaders%3Dhost%26X-Goog-Signature%3D94972a1115f5302c10d9a91c151366154ed03affe23f2b86591779c7abbb11418f35644740dfc12d1e391649a665f0740fb4ef1980be191c3a95a5398532a429280ea642041a36bd0e5e55d3e92754f1291c4aa9a08ee0a358506746658b63780904bdeba4e6f8ed49fa51d7b1cd72b01ad06c963a1750f44f9544da0310b1458e5add99ca9c624499659211268ba90066dca3e0803c27942cfe0136c999d398e3763804ac9e7be04320817fe05ccd2c79d0b9486294dcd255db221c89ae986e44de5f018499efb890d8ebe9673dd501070ee5ce1cd48465a27baee7c7f4e7c4450e6f21a8cf8884437ebd09908e3de42241c8ebf1e74f3274e67d4243b17e56,chatbot-dataset:https%3A%2F%2Fstorage.googleapis.com%2Fkaggle-data-sets%2F2915525%2F5024271%2Fbundle%2Farchive.zip%3FX-Goog-Algorithm%3DGOOG4-RSA-SHA256%26X-Goog-Credential%3Dgcp-kaggle-com%2540kaggle-161607.iam.gserviceaccount.com%252F20240708%252Fauto%252Fstorage%252Fgoog4_request%26X-Goog-Date%3D20240708T121327Z%26X-Goog-Expires%3D259200%26X-Goog-SignedHeaders%3Dhost%26X-Goog-Signature%3D2cf01e006e1741a4f966b979c8d98daec422b48c8d8a34f84cd6f8af106d905fd223930d4be23ff5fd3a374602095a1e0f4250e31f2e48a62c9c43fb68a65959b2811b22361c699d47bf4d967faae06356d72c8c543cb9c407d2eadee4cb468c57cce7de6f22b3a11d6211203ca5f761b57a29010b4656b909d80a06ae12b6c7fae463e215e251983f5c7726bec45c66c64853cb178bfae145d73b770aa8de5e27fa8f3fc1a6d711da4f5885e345dc0f53c96f5717516c0ddff6cb58ca5b72de4d86728347bf3ca15aeb5b77f50581003a895788a51d582aeb5b410f067aaeeac1268bbc7907dc7a180f5d11bd79cddfe97cab05f2f8a22aa612ed2f34c2a6ad'\n",
        "\n",
        "KAGGLE_INPUT_PATH='/kaggle/input'\n",
        "KAGGLE_WORKING_PATH='/kaggle/working'\n",
        "KAGGLE_SYMLINK='kaggle'\n",
        "\n",
        "!umount /kaggle/input/ 2> /dev/null\n",
        "shutil.rmtree('/kaggle/input', ignore_errors=True)\n",
        "os.makedirs(KAGGLE_INPUT_PATH, 0o777, exist_ok=True)\n",
        "os.makedirs(KAGGLE_WORKING_PATH, 0o777, exist_ok=True)\n",
        "\n",
        "try:\n",
        "  os.symlink(KAGGLE_INPUT_PATH, os.path.join(\"..\", 'input'), target_is_directory=True)\n",
        "except FileExistsError:\n",
        "  pass\n",
        "try:\n",
        "  os.symlink(KAGGLE_WORKING_PATH, os.path.join(\"..\", 'working'), target_is_directory=True)\n",
        "except FileExistsError:\n",
        "  pass\n",
        "\n",
        "for data_source_mapping in DATA_SOURCE_MAPPING.split(','):\n",
        "    directory, download_url_encoded = data_source_mapping.split(':')\n",
        "    download_url = unquote(download_url_encoded)\n",
        "    filename = urlparse(download_url).path\n",
        "    destination_path = os.path.join(KAGGLE_INPUT_PATH, directory)\n",
        "    try:\n",
        "        with urlopen(download_url) as fileres, NamedTemporaryFile() as tfile:\n",
        "            total_length = fileres.headers['content-length']\n",
        "            print(f'Downloading {directory}, {total_length} bytes compressed')\n",
        "            dl = 0\n",
        "            data = fileres.read(CHUNK_SIZE)\n",
        "            while len(data) > 0:\n",
        "                dl += len(data)\n",
        "                tfile.write(data)\n",
        "                done = int(50 * dl / int(total_length))\n",
        "                sys.stdout.write(f\"\\r[{'=' * done}{' ' * (50-done)}] {dl} bytes downloaded\")\n",
        "                sys.stdout.flush()\n",
        "                data = fileres.read(CHUNK_SIZE)\n",
        "            if filename.endswith('.zip'):\n",
        "              with ZipFile(tfile) as zfile:\n",
        "                zfile.extractall(destination_path)\n",
        "            else:\n",
        "              with tarfile.open(tfile.name) as tarfile:\n",
        "                tarfile.extractall(destination_path)\n",
        "            print(f'\\nDownloaded and uncompressed: {directory}')\n",
        "    except HTTPError as e:\n",
        "        print(f'Failed to load (likely expired) {download_url} to path {destination_path}')\n",
        "        continue\n",
        "    except OSError as e:\n",
        "        print(f'Failed to load {download_url} to path {destination_path}')\n",
        "        continue\n",
        "\n",
        "print('Data source import complete.')\n"
      ]
    },
    {
      "cell_type": "markdown",
      "metadata": {
        "id": "MzTgiAmaQxgX"
      },
      "source": [
        "<div style=\"text-align: left; background-color:black; font-family: Trebuchet MS; color:#A60505; padding: 12px; line-height:1.25;border-radius:1px; margin-bottom: 0em; text-align: center; font-size: 58px;border-style: solid;border-color: black solid;\"> Build A Custom Chatbot </div>"
      ]
    },
    {
      "cell_type": "markdown",
      "metadata": {
        "id": "XfW3Day1QxgZ"
      },
      "source": [
        "<center>\n",
        "    <img src='https://wallpapercave.com/wp/wp10299458.jpg'>\n",
        "</center>"
      ]
    },
    {
      "cell_type": "markdown",
      "metadata": {
        "id": "wEyjaLYDQxga"
      },
      "source": [
        " <a id=\"toc\"></a>\n",
        "<div class=\"list-group\" id=\"list-tab\" role=\"tablist\"></div>\n",
        "\n",
        "## <div style=\"background-color:#B21010;font-family:sans-serif;color:#FFF9ED;font-size:150%;text-align:center;border-radius:9px 9px; padding: 15px; border-style: solid; border-color: black\">TABLE OF CONTENTS</div>   \n",
        "    \n",
        "* [1. Introduction](#1)\n",
        "    \n",
        "* [2. Import Necessaries](#2)\n",
        "    \n",
        "* [3. EDA](#3)\n",
        "\n",
        "    * [3.1. Load the data](#3.1)\n",
        "    * [3.2. Extract Info from the Json data file and Store it in dataframe](#3.2)\n",
        "    * [3.3. Check the shape of the dataset](#3.3)\n",
        "    * [3.4. Display information about the dataset](#3.4)\n",
        "    * [3.5. Display Number of Classes](#3.5)\n",
        "    * [3.6. Check Number of Null Values](#3.6)\n",
        "    * [3.7. Visualize the Null Values](#3.7)\n",
        "    * [3.8. Visualize the distrbution of our Classes](#3.8)\n",
        "    * [3.9 Display Word Cloud](#3.9)\n",
        "    * [3.10 Distrbution of Number of letters in each text](#3.10)\n",
        "    * [3.11 Distrbution of Number of words in each text](#3.11)\n",
        "    * [3.12  Visualize Average word length in each text](#3.12)\n",
        "    * [3.13 Visualize top words](#3.13)\n",
        "    \n",
        "\n",
        "* [4. Data Preprocessing](#4)\n",
        "\n",
        "* [5. Split the data into train and test](#5)\n",
        "     \n",
        "    \n",
        "\n",
        "* [6. Load BERT Pretrained model and Tokenizer](#6)\n",
        "\n",
        "* [7. Transform the data into numerical format using the BERT Tokenizer](#7)\n",
        "   \n",
        "* [8. Build Data Loader](#8)\n",
        "\n",
        "* [9. Define Evaluation Metrciesl](#9)\n",
        "\n",
        "* [10. Define Training Arguments](#10)\n",
        "\n",
        "* [11. Train the model](#11)\n",
        "\n",
        "* [12. Evaluate the model](#12)\n",
        "\n",
        "* [13. Save the model](#13)\n",
        "\n",
        "* [14. Load the model](#14)\n",
        "\n",
        "* [15. Chat with the Chatbot](#15)\n",
        "\n",
        "* [16. AUTHOR MESSAGE](#16)\n",
        "\n"
      ]
    },
    {
      "cell_type": "markdown",
      "metadata": {
        "id": "xz0GqMiPQxga"
      },
      "source": [
        "<a id=\"1\"></a>\n",
        "## <b>1 <span style='color:#B21010'>||</span> Introduction</b>"
      ]
    },
    {
      "cell_type": "markdown",
      "metadata": {
        "id": "VlY9GeHIQxgb"
      },
      "source": [
        "\n",
        "<div style=\"border-radius:10px;\n",
        "            border: black solid;\n",
        "            adding: 15px;\n",
        "            background-color:#FBA7A7;\n",
        "            font-size:120%;\n",
        "            text-aling: left\">\n",
        "<h3 style:'border:0; border-radius: 15px; color: black'><center> How we will build the Chatbot?:</center></h3>\n",
        "\n",
        "_________________________________________________________________________\n",
        "    \n",
        "Chatbots are AI-powered programs that simulate human conversation. They can answer questions, perform tasks, and engage with users, making technology more accessible and efficient.\n",
        "we will walk through this steps:\n",
        "    \n",
        "1. Load the data<br>\n",
        "2. EDA and analyze the data for more insights\n",
        "3. Split the data into train, test and validation datasets<br>\n",
        "4. Load BERT Pretrained model and tokenizer<br>\n",
        "5. Transform the data to numerical format<br>\n",
        "6. Train BERT Pretrained model on our custome dataset<br>\n",
        "7. Evaluate the model <br>\n",
        "8. Save the model<br>\n",
        "9. Finally, Load The model and start the conversation"
      ]
    },
    {
      "cell_type": "markdown",
      "metadata": {
        "id": "QypfHOriQxgb"
      },
      "source": [
        "<a id=\"2\"></a>\n",
        "## <b>2 <span style='color:#B21010'>||</span>Import Necessaries</b>"
      ]
    },
    {
      "cell_type": "code",
      "execution_count": null,
      "metadata": {
        "execution": {
          "iopub.execute_input": "2023-09-30T15:31:18.873972Z",
          "iopub.status.busy": "2023-09-30T15:31:18.873202Z",
          "iopub.status.idle": "2023-09-30T15:31:18.87898Z",
          "shell.execute_reply": "2023-09-30T15:31:18.877758Z",
          "shell.execute_reply.started": "2023-09-30T15:31:18.873903Z"
        },
        "id": "zqkXcGQeQxgb",
        "trusted": true
      },
      "outputs": [],
      "source": [
        "import warnings\n",
        "warnings.filterwarnings('ignore')"
      ]
    },
    {
      "cell_type": "code",
      "execution_count": null,
      "metadata": {
        "_cell_guid": "b1076dfc-b9ad-4769-8c92-a6c4dae69d19",
        "_uuid": "8f2839f25d086af736a60e9eeb907d3b93b6e0e5",
        "colab": {
          "base_uri": "https://localhost:8080/",
          "height": 395
        },
        "execution": {
          "iopub.execute_input": "2023-09-30T16:21:16.486247Z",
          "iopub.status.busy": "2023-09-30T16:21:16.485508Z",
          "iopub.status.idle": "2023-09-30T16:21:16.510877Z",
          "shell.execute_reply": "2023-09-30T16:21:16.509734Z",
          "shell.execute_reply.started": "2023-09-30T16:21:16.486214Z"
        },
        "id": "tY8Sw4OYQxgb",
        "outputId": "6f33daaa-09b3-4cde-e5f4-8a4ee7657608",
        "trusted": true
      },
      "outputs": [
        {
          "ename": "ImportError",
          "evalue": "cannot import name 'TFTrainer' from 'transformers' (/usr/local/lib/python3.10/dist-packages/transformers/__init__.py)",
          "output_type": "error",
          "traceback": [
            "\u001b[0;31m---------------------------------------------------------------------------\u001b[0m",
            "\u001b[0;31mImportError\u001b[0m                               Traceback (most recent call last)",
            "\u001b[0;32m<ipython-input-6-babb311c7d84>\u001b[0m in \u001b[0;36m<cell line: 32>\u001b[0;34m()\u001b[0m\n\u001b[1;32m     30\u001b[0m \u001b[0;32mfrom\u001b[0m \u001b[0mtransformers\u001b[0m \u001b[0;32mimport\u001b[0m \u001b[0mDistilBertTokenizerFast\u001b[0m\u001b[0;34m\u001b[0m\u001b[0;34m\u001b[0m\u001b[0m\n\u001b[1;32m     31\u001b[0m \u001b[0;32mfrom\u001b[0m \u001b[0mtransformers\u001b[0m \u001b[0;32mimport\u001b[0m \u001b[0mBertForSequenceClassification\u001b[0m\u001b[0;34m,\u001b[0m \u001b[0mBertTokenizerFast\u001b[0m\u001b[0;34m\u001b[0m\u001b[0;34m\u001b[0m\u001b[0m\n\u001b[0;32m---> 32\u001b[0;31m \u001b[0;32mfrom\u001b[0m \u001b[0mtransformers\u001b[0m \u001b[0;32mimport\u001b[0m \u001b[0mTFDistilBertForSequenceClassification\u001b[0m\u001b[0;34m,\u001b[0m \u001b[0mTFTrainer\u001b[0m\u001b[0;34m,\u001b[0m \u001b[0mTFTrainingArguments\u001b[0m\u001b[0;34m\u001b[0m\u001b[0;34m\u001b[0m\u001b[0m\n\u001b[0m\u001b[1;32m     33\u001b[0m \u001b[0;32mfrom\u001b[0m \u001b[0mtransformers\u001b[0m \u001b[0;32mimport\u001b[0m \u001b[0mBertTokenizer\u001b[0m\u001b[0;34m,\u001b[0m \u001b[0mTFBertForSequenceClassification\u001b[0m\u001b[0;34m,\u001b[0m \u001b[0mBertConfig\u001b[0m\u001b[0;34m\u001b[0m\u001b[0;34m\u001b[0m\u001b[0m\n\u001b[1;32m     34\u001b[0m \u001b[0;32mfrom\u001b[0m \u001b[0mtransformers\u001b[0m \u001b[0;32mimport\u001b[0m \u001b[0mTrainingArguments\u001b[0m\u001b[0;34m,\u001b[0m \u001b[0mTrainer\u001b[0m\u001b[0;34m\u001b[0m\u001b[0;34m\u001b[0m\u001b[0m\n",
            "\u001b[0;31mImportError\u001b[0m: cannot import name 'TFTrainer' from 'transformers' (/usr/local/lib/python3.10/dist-packages/transformers/__init__.py)",
            "",
            "\u001b[0;31m---------------------------------------------------------------------------\u001b[0;32m\nNOTE: If your import is failing due to a missing package, you can\nmanually install dependencies using either !pip or !apt.\n\nTo view examples of installing some common dependencies, click the\n\"Open Examples\" button below.\n\u001b[0;31m---------------------------------------------------------------------------\u001b[0m\n"
          ]
        }
      ],
      "source": [
        "import json\n",
        "import numpy as np\n",
        "import pandas as pd\n",
        "import random\n",
        "from matplotlib import pyplot as plt\n",
        "import seaborn as sns\n",
        "from wordcloud import WordCloud,STOPWORDS\n",
        "import missingno as msno\n",
        "\n",
        "from sklearn.feature_extraction.text import CountVectorizer\n",
        "from sklearn.model_selection import train_test_split\n",
        "from sklearn.metrics import accuracy_score, precision_recall_fscore_support\n",
        "\n",
        "from keras.preprocessing import text\n",
        "import keras\n",
        "from keras.models import Sequential\n",
        "from keras.layers import Dense,Embedding,LSTM,Dropout\n",
        "from keras.callbacks import ReduceLROnPlateau\n",
        "\n",
        "from tensorflow.keras.preprocessing.sequence import pad_sequences\n",
        "import nltk\n",
        "from nltk import word_tokenize\n",
        "from nltk.stem import PorterStemmer\n",
        "\n",
        "import torch\n",
        "from torch.utils.data import Dataset\n",
        "\n",
        "from transformers import AutoTokenizer, TFAutoModelForSequenceClassification\n",
        "from transformers import pipeline\n",
        "from transformers import DistilBertTokenizerFast\n",
        "from transformers import BertForSequenceClassification, BertTokenizerFast\n",
        "from transformers import TFDistilBertForSequenceClassification, TFTrainer, TFTrainingArguments\n",
        "from transformers import BertTokenizer, TFBertForSequenceClassification, BertConfig\n",
        "from transformers import TrainingArguments, Trainer"
      ]
    },
    {
      "cell_type": "markdown",
      "metadata": {
        "id": "BaCTb-1UQxgc"
      },
      "source": [
        "<a id=\"3\"></a>\n",
        "## <b>3 <span style='color:#B21010'>||</span> EDA + Vis</b>"
      ]
    },
    {
      "cell_type": "markdown",
      "metadata": {
        "id": "33FTDVZiQxgc"
      },
      "source": [
        "<a id=\"3.1\"></a>\n",
        "### <b>3.1 <span style='color:#B21010'>||</span> Load the data</b>"
      ]
    },
    {
      "cell_type": "code",
      "execution_count": null,
      "metadata": {
        "execution": {
          "iopub.execute_input": "2023-09-30T15:31:37.093566Z",
          "iopub.status.busy": "2023-09-30T15:31:37.092793Z",
          "iopub.status.idle": "2023-09-30T15:31:37.104701Z",
          "shell.execute_reply": "2023-09-30T15:31:37.10388Z",
          "shell.execute_reply.started": "2023-09-30T15:31:37.093524Z"
        },
        "id": "Baf5kNuXQxgc",
        "trusted": true
      },
      "outputs": [],
      "source": [
        "def load_json_file(filename):\n",
        "    with open(filename) as f:\n",
        "        file = json.load(f)\n",
        "    return file\n",
        "\n",
        "filename = '/kaggle/input/chatbot-dataset/intents.json'\n",
        "\n",
        "intents = load_json_file(filename)"
      ]
    },
    {
      "cell_type": "markdown",
      "metadata": {
        "id": "x-wAuIToQxgd"
      },
      "source": [
        "<a id=\"3.2\"></a>\n",
        "### <b>3.2 <span style='color:#B21010'>||</span> Extract Info from the Json data file and Store it in dataframe</b>"
      ]
    },
    {
      "cell_type": "code",
      "execution_count": null,
      "metadata": {
        "execution": {
          "iopub.execute_input": "2023-09-30T15:31:37.107138Z",
          "iopub.status.busy": "2023-09-30T15:31:37.106442Z",
          "iopub.status.idle": "2023-09-30T15:31:37.128029Z",
          "shell.execute_reply": "2023-09-30T15:31:37.126945Z",
          "shell.execute_reply.started": "2023-09-30T15:31:37.107104Z"
        },
        "id": "_muYqO1HQxgd",
        "trusted": true
      },
      "outputs": [],
      "source": [
        "def create_df():\n",
        "    df = pd.DataFrame({\n",
        "        'Pattern' : [],\n",
        "        'Tag' : []\n",
        "    })\n",
        "\n",
        "    return df\n",
        "\n",
        "df = create_df()\n",
        "df"
      ]
    },
    {
      "cell_type": "code",
      "execution_count": null,
      "metadata": {
        "execution": {
          "iopub.execute_input": "2023-09-30T15:31:37.131738Z",
          "iopub.status.busy": "2023-09-30T15:31:37.131508Z",
          "iopub.status.idle": "2023-09-30T15:31:37.560757Z",
          "shell.execute_reply": "2023-09-30T15:31:37.559757Z",
          "shell.execute_reply.started": "2023-09-30T15:31:37.131719Z"
        },
        "id": "9X8UQd_1Qxgd",
        "trusted": true
      },
      "outputs": [],
      "source": [
        "def extract_json_info(json_file, df):\n",
        "\n",
        "    for intent in json_file['intents']:\n",
        "\n",
        "        for pattern in intent['patterns']:\n",
        "\n",
        "            sentence_tag = [pattern, intent['tag']]\n",
        "            df.loc[len(df.index)] = sentence_tag\n",
        "\n",
        "    return df\n",
        "\n",
        "df = extract_json_info(intents, df)\n",
        "df.head()"
      ]
    },
    {
      "cell_type": "code",
      "execution_count": null,
      "metadata": {
        "execution": {
          "iopub.execute_input": "2023-09-30T15:31:37.564532Z",
          "iopub.status.busy": "2023-09-30T15:31:37.563585Z",
          "iopub.status.idle": "2023-09-30T15:31:37.57489Z",
          "shell.execute_reply": "2023-09-30T15:31:37.573852Z",
          "shell.execute_reply.started": "2023-09-30T15:31:37.564481Z"
        },
        "id": "pxu8g0pZQxgd",
        "trusted": true
      },
      "outputs": [],
      "source": [
        "df2 = df.copy()\n",
        "df2.head()"
      ]
    },
    {
      "cell_type": "markdown",
      "metadata": {
        "id": "_Y2_-lbbQxgd"
      },
      "source": [
        "<a id=\"3.3\"></a>\n",
        "### <b>3.3 <span style='color:#B21010'>||</span> Check the shape of the dataset</b>"
      ]
    },
    {
      "cell_type": "code",
      "execution_count": null,
      "metadata": {
        "execution": {
          "iopub.execute_input": "2023-09-30T15:31:37.578579Z",
          "iopub.status.busy": "2023-09-30T15:31:37.577285Z",
          "iopub.status.idle": "2023-09-30T15:31:37.584656Z",
          "shell.execute_reply": "2023-09-30T15:31:37.583553Z",
          "shell.execute_reply.started": "2023-09-30T15:31:37.578543Z"
        },
        "id": "HPdM8P1bQxge",
        "trusted": true
      },
      "outputs": [],
      "source": [
        "def print_shape_df(df, ds_name=\"df\"):\n",
        "    print(f\"{ds_name} dataset has {df.shape[0]} rows and {df.shape[1]} columns\")\n",
        "\n",
        "print_shape_df(df, \"Chatbot\")"
      ]
    },
    {
      "cell_type": "markdown",
      "metadata": {
        "id": "mhK6U4wkQxge"
      },
      "source": [
        "<a id=\"3.4\"></a>\n",
        "### <b>3.4 <span style='color:#B21010'>||</span> Display information about the dataset</b>"
      ]
    },
    {
      "cell_type": "code",
      "execution_count": null,
      "metadata": {
        "execution": {
          "iopub.execute_input": "2023-09-30T15:31:37.586702Z",
          "iopub.status.busy": "2023-09-30T15:31:37.586096Z",
          "iopub.status.idle": "2023-09-30T15:31:37.607304Z",
          "shell.execute_reply": "2023-09-30T15:31:37.606297Z",
          "shell.execute_reply.started": "2023-09-30T15:31:37.586668Z"
        },
        "id": "2lY2HLm9Qxge",
        "trusted": true
      },
      "outputs": [],
      "source": [
        "def print_dfInfo(df, ds_name=\"df\"):\n",
        "    print(f\"The info of {ds_name} dataset\\n\")\n",
        "    print(df.info())\n",
        "\n",
        "print_dfInfo(df, \"Chatbot\")"
      ]
    },
    {
      "cell_type": "markdown",
      "metadata": {
        "id": "iYES9kiiQxge"
      },
      "source": [
        "<a id=\"3.5\"></a>\n",
        "### <b>3.5 <span style='color:#B21010'>||</span> Display Number of Classes</b>"
      ]
    },
    {
      "cell_type": "code",
      "execution_count": null,
      "metadata": {
        "execution": {
          "iopub.execute_input": "2023-09-30T15:31:37.609371Z",
          "iopub.status.busy": "2023-09-30T15:31:37.60879Z",
          "iopub.status.idle": "2023-09-30T15:31:37.619815Z",
          "shell.execute_reply": "2023-09-30T15:31:37.618409Z",
          "shell.execute_reply.started": "2023-09-30T15:31:37.609339Z"
        },
        "id": "fj7c-KcBQxge",
        "trusted": true
      },
      "outputs": [],
      "source": [
        "def num_classes(df, target_col, ds_name=\"df\"):\n",
        "    print(f\"The {ds_name} dataset has {len(df[target_col].unique())} classes\")\n",
        "\n",
        "num_classes(df, 'Tag', \"Chatbot\")"
      ]
    },
    {
      "cell_type": "markdown",
      "metadata": {
        "id": "2BXq8CJWQxgf"
      },
      "source": [
        "<a id=\"3.6\"></a>\n",
        "### <b>3.6 <span style='color:#B21010'>||</span> Check the null values in the dataset</b>"
      ]
    },
    {
      "cell_type": "code",
      "execution_count": null,
      "metadata": {
        "execution": {
          "iopub.execute_input": "2023-09-30T16:20:46.733354Z",
          "iopub.status.busy": "2023-09-30T16:20:46.732778Z",
          "iopub.status.idle": "2023-09-30T16:20:46.742777Z",
          "shell.execute_reply": "2023-09-30T16:20:46.741405Z",
          "shell.execute_reply.started": "2023-09-30T16:20:46.733322Z"
        },
        "id": "JbvvBYbGQxgf",
        "trusted": true
      },
      "outputs": [],
      "source": [
        "def check_null(df, ds_name='df'):\n",
        "    print(f\"Null Values in each col in the {ds_name} dataset:\\n\")\n",
        "    print(df.isnull().sum())\n",
        "\n",
        "check_null(df, \"Chatbot\")"
      ]
    },
    {
      "cell_type": "markdown",
      "metadata": {
        "id": "QoBALf0wQxgf"
      },
      "source": [
        "<a id=\"3.7\"></a>\n",
        "### <b>3.7 <span style='color:#B21010'>||</span> Visualize the Null Values</b>"
      ]
    },
    {
      "cell_type": "code",
      "execution_count": null,
      "metadata": {
        "execution": {
          "iopub.execute_input": "2023-09-30T16:21:18.534879Z",
          "iopub.status.busy": "2023-09-30T16:21:18.533842Z",
          "iopub.status.idle": "2023-09-30T16:21:19.067552Z",
          "shell.execute_reply": "2023-09-30T16:21:19.066459Z",
          "shell.execute_reply.started": "2023-09-30T16:21:18.534833Z"
        },
        "id": "9KAPKFHXQxgf",
        "trusted": true
      },
      "outputs": [],
      "source": [
        "def plot_miss_vals(df, ds_name=\"df\"):\n",
        "    msno.matrix(df)\n",
        "    plt.title(f'Distribution of Missing Values in {ds_name} dataset', fontsize=30, fontstyle='oblique')\n",
        "    plt.show()\n",
        "\n",
        "plot_miss_vals(df, \"Chatbot\")"
      ]
    },
    {
      "cell_type": "markdown",
      "metadata": {
        "id": "sRyGSrfwQxgf"
      },
      "source": [
        "<a id=\"3.8\"></a>\n",
        "### <b>3.8 <span style='color:#B21010'>||</span> Visualize the distrbution of our Classes</b>"
      ]
    },
    {
      "cell_type": "code",
      "execution_count": null,
      "metadata": {
        "execution": {
          "iopub.execute_input": "2023-09-30T15:31:37.621823Z",
          "iopub.status.busy": "2023-09-30T15:31:37.621254Z",
          "iopub.status.idle": "2023-09-30T15:31:37.631807Z",
          "shell.execute_reply": "2023-09-30T15:31:37.630778Z",
          "shell.execute_reply.started": "2023-09-30T15:31:37.621787Z"
        },
        "id": "-3coYEVqQxgf",
        "trusted": true
      },
      "outputs": [],
      "source": [
        "def count_plot(x, df, title, xlabel, ylabel, width, height, order = None, rotation=False, palette='winter', hue=None):\n",
        "    ncount = len(df)\n",
        "    plt.figure(figsize=(width,height))\n",
        "    ax = sns.countplot(x = x, palette=palette, order = order, hue=hue)\n",
        "    plt.title(title, fontsize=20)\n",
        "    if rotation:\n",
        "        plt.xticks(rotation = 'vertical')\n",
        "    plt.xlabel(xlabel, fontsize=25)\n",
        "    plt.ylabel(ylabel, fontsize=25)\n",
        "\n",
        "    ax.yaxis.set_label_position('left')\n",
        "    for p in ax.patches:\n",
        "        x=p.get_bbox().get_points()[:,0]\n",
        "        y=p.get_bbox().get_points()[1,1]\n",
        "        ax.annotate('{:.1f}%'.format(100.*y/ncount), (x.mean(), y),\n",
        "                ha='center', va='bottom') # set the alignment of the text\n",
        "\n",
        "    plt.show()"
      ]
    },
    {
      "cell_type": "code",
      "execution_count": null,
      "metadata": {
        "execution": {
          "iopub.execute_input": "2023-09-30T15:31:37.637121Z",
          "iopub.status.busy": "2023-09-30T15:31:37.635995Z",
          "iopub.status.idle": "2023-09-30T15:31:38.496865Z",
          "shell.execute_reply": "2023-09-30T15:31:38.495987Z",
          "shell.execute_reply.started": "2023-09-30T15:31:37.637088Z"
        },
        "id": "YNnPU5EBQxgg",
        "trusted": true
      },
      "outputs": [],
      "source": [
        "sns.set(font_scale = 1.2)\n",
        "order = df['Tag'].value_counts().index\n",
        "count_plot(df['Tag'], df, \"Chatbot Tags distrbution\", \"Tags\", \"Frequency\", 20,10, order=order,rotation=True, palette=\"summer\")"
      ]
    },
    {
      "cell_type": "code",
      "execution_count": null,
      "metadata": {
        "execution": {
          "iopub.execute_input": "2023-09-30T15:31:38.498179Z",
          "iopub.status.busy": "2023-09-30T15:31:38.49785Z",
          "iopub.status.idle": "2023-09-30T15:31:38.573085Z",
          "shell.execute_reply": "2023-09-30T15:31:38.572072Z",
          "shell.execute_reply.started": "2023-09-30T15:31:38.49815Z"
        },
        "id": "ReANaTydQxgg",
        "trusted": true
      },
      "outputs": [],
      "source": [
        "stemmer = PorterStemmer()\n",
        "ignore_words=['?', '!', ',', '.']\n",
        "\n",
        "def preprocess_pattern(pattern):\n",
        "    words = word_tokenize(pattern.lower())\n",
        "    stemmed_words = [stemmer.stem(word) for word in words if word not in ignore_words]\n",
        "    return \" \".join(stemmed_words)\n",
        "\n",
        "df['Pattern'] = df['Pattern'].apply(preprocess_pattern)"
      ]
    },
    {
      "cell_type": "code",
      "execution_count": null,
      "metadata": {
        "execution": {
          "iopub.execute_input": "2023-09-30T15:31:38.577017Z",
          "iopub.status.busy": "2023-09-30T15:31:38.576108Z",
          "iopub.status.idle": "2023-09-30T15:31:38.587184Z",
          "shell.execute_reply": "2023-09-30T15:31:38.586131Z",
          "shell.execute_reply.started": "2023-09-30T15:31:38.576983Z"
        },
        "id": "zhsx2D8IQxgg",
        "trusted": true
      },
      "outputs": [],
      "source": [
        "df.head()"
      ]
    },
    {
      "cell_type": "code",
      "execution_count": null,
      "metadata": {
        "execution": {
          "iopub.execute_input": "2023-09-30T15:31:38.589091Z",
          "iopub.status.busy": "2023-09-30T15:31:38.588757Z",
          "iopub.status.idle": "2023-09-30T15:31:38.595942Z",
          "shell.execute_reply": "2023-09-30T15:31:38.594742Z",
          "shell.execute_reply.started": "2023-09-30T15:31:38.589067Z"
        },
        "id": "W6ogJ-TOQxgg",
        "trusted": true
      },
      "outputs": [],
      "source": [
        "print(df['Pattern'].isnull().sum())"
      ]
    },
    {
      "cell_type": "markdown",
      "metadata": {
        "id": "GDrFd9CHQxgh"
      },
      "source": [
        "<a id=\"3.9\"></a>\n",
        "### <b>3.9 <span style='color:#B21010'>||</span> Display Word Cloud</b>"
      ]
    },
    {
      "cell_type": "code",
      "execution_count": null,
      "metadata": {
        "execution": {
          "iopub.execute_input": "2023-09-30T15:31:38.598227Z",
          "iopub.status.busy": "2023-09-30T15:31:38.597375Z",
          "iopub.status.idle": "2023-09-30T15:31:40.719013Z",
          "shell.execute_reply": "2023-09-30T15:31:40.718132Z",
          "shell.execute_reply.started": "2023-09-30T15:31:38.598194Z"
        },
        "id": "JY5ZlLJfQxgh",
        "trusted": true
      },
      "outputs": [],
      "source": [
        "plt.figure(figsize=(20, 20))\n",
        "wc = WordCloud(max_words=2000, width=1600, height=800, stopwords=STOPWORDS).generate(' '.join(df['Pattern']))\n",
        "plt.imshow(wc, interpolation='bilinear')\n",
        "plt.xticks([])\n",
        "plt.yticks([])\n",
        "plt.show()"
      ]
    },
    {
      "cell_type": "markdown",
      "metadata": {
        "id": "UZpIgNKlQxgh"
      },
      "source": [
        "<a id=\"3.10\"></a>\n",
        "### <b>3.10 <span style='color:#B21010'>||</span> Distrbution of Number of letters in each text</b>"
      ]
    },
    {
      "cell_type": "code",
      "execution_count": null,
      "metadata": {
        "execution": {
          "iopub.execute_input": "2023-09-30T15:31:40.720737Z",
          "iopub.status.busy": "2023-09-30T15:31:40.720238Z",
          "iopub.status.idle": "2023-09-30T15:31:41.036384Z",
          "shell.execute_reply": "2023-09-30T15:31:41.035491Z",
          "shell.execute_reply.started": "2023-09-30T15:31:40.720705Z"
        },
        "id": "jHFmDYnvQxgh",
        "trusted": true
      },
      "outputs": [],
      "source": [
        "letters_len=df['Pattern'].str.len()\n",
        "plt.hist(letters_len,color='red')\n",
        "plt.title(\"Distrbution of Number of letters in each text\")\n",
        "plt.xlabel(\"Num of letters\")\n",
        "plt.ylabel(\"Frequency\")\n",
        "plt.show()"
      ]
    },
    {
      "cell_type": "markdown",
      "metadata": {
        "id": "Dk0Q9edYQxgh"
      },
      "source": [
        "<a id=\"3.11\"></a>\n",
        "### <b>3.11 <span style='color:#B21010'>||</span> Distrbution of Number of words in each text</b>"
      ]
    },
    {
      "cell_type": "code",
      "execution_count": null,
      "metadata": {
        "execution": {
          "iopub.execute_input": "2023-09-30T15:31:41.038411Z",
          "iopub.status.busy": "2023-09-30T15:31:41.037485Z",
          "iopub.status.idle": "2023-09-30T15:31:41.365154Z",
          "shell.execute_reply": "2023-09-30T15:31:41.364012Z",
          "shell.execute_reply.started": "2023-09-30T15:31:41.038363Z"
        },
        "id": "mu_-4BqiQxgi",
        "trusted": true
      },
      "outputs": [],
      "source": [
        "words_len=df['Pattern'].str.split().map(lambda x: len(x))\n",
        "plt.hist(words_len,color='green')\n",
        "plt.title(\"Distrbution of Number of words in each text\")\n",
        "plt.xlabel(\"Num of words\")\n",
        "plt.ylabel(\"Frequency\")\n",
        "plt.show()"
      ]
    },
    {
      "cell_type": "markdown",
      "metadata": {
        "id": "OccuCxVOQxgi"
      },
      "source": [
        "<a id=\"3.12\"></a>\n",
        "### <b>3.12 <span style='color:#B21010'>||</span> Visualize Average word length in each text</b>"
      ]
    },
    {
      "cell_type": "code",
      "execution_count": null,
      "metadata": {
        "execution": {
          "iopub.execute_input": "2023-09-30T15:31:41.371999Z",
          "iopub.status.busy": "2023-09-30T15:31:41.366804Z",
          "iopub.status.idle": "2023-09-30T15:31:42.385937Z",
          "shell.execute_reply": "2023-09-30T15:31:42.38495Z",
          "shell.execute_reply.started": "2023-09-30T15:31:41.371963Z"
        },
        "id": "6gfaSSSIQxgj",
        "trusted": true
      },
      "outputs": [],
      "source": [
        "word=df['Pattern'].str.split().apply(lambda x : [len(i) for i in x])\n",
        "word = word.map(lambda x: np.mean(x))\n",
        "sns.distplot(word,color='red')\n",
        "plt.title(\"Average word length in each text\")\n",
        "plt.xlabel(\"Num of words\")\n",
        "plt.ylabel(\"Precentage\")\n",
        "plt.show()"
      ]
    },
    {
      "cell_type": "markdown",
      "metadata": {
        "id": "aSId1zGwQxgj"
      },
      "source": [
        "<a id=\"3.13\"></a>\n",
        "### <b>3.13 <span style='color:#B21010'>||</span> Visualize top words</b>"
      ]
    },
    {
      "cell_type": "code",
      "execution_count": null,
      "metadata": {
        "execution": {
          "iopub.execute_input": "2023-09-30T15:31:42.390745Z",
          "iopub.status.busy": "2023-09-30T15:31:42.390155Z",
          "iopub.status.idle": "2023-09-30T15:31:42.4044Z",
          "shell.execute_reply": "2023-09-30T15:31:42.403231Z",
          "shell.execute_reply.started": "2023-09-30T15:31:42.390708Z"
        },
        "id": "nrUT6r_YQxgj",
        "trusted": true
      },
      "outputs": [],
      "source": [
        "def get_corpus(series):\n",
        "    words = []\n",
        "    for text in series:\n",
        "        for word in text.split():\n",
        "            words.append(word.strip())\n",
        "    return words\n",
        "\n",
        "corpus = get_corpus(df.Pattern)\n",
        "corpus[:5]"
      ]
    },
    {
      "cell_type": "code",
      "execution_count": null,
      "metadata": {
        "execution": {
          "iopub.execute_input": "2023-09-30T15:31:42.410515Z",
          "iopub.status.busy": "2023-09-30T15:31:42.409395Z",
          "iopub.status.idle": "2023-09-30T15:31:42.41498Z",
          "shell.execute_reply": "2023-09-30T15:31:42.414077Z",
          "shell.execute_reply.started": "2023-09-30T15:31:42.41048Z"
        },
        "id": "40G2Ct5MQxgj",
        "trusted": true
      },
      "outputs": [],
      "source": [
        "print(f\"dataset contains {len(corpus)} words\")"
      ]
    },
    {
      "cell_type": "code",
      "execution_count": null,
      "metadata": {
        "execution": {
          "iopub.execute_input": "2023-09-30T15:31:42.417201Z",
          "iopub.status.busy": "2023-09-30T15:31:42.416556Z",
          "iopub.status.idle": "2023-09-30T15:31:42.43134Z",
          "shell.execute_reply": "2023-09-30T15:31:42.430412Z",
          "shell.execute_reply.started": "2023-09-30T15:31:42.417166Z"
        },
        "id": "JZMEaoB4Qxgj",
        "trusted": true
      },
      "outputs": [],
      "source": [
        "from collections import Counter\n",
        "counter = Counter(corpus)\n",
        "most_common = counter.most_common(10)\n",
        "most_common = dict(most_common)\n",
        "most_common"
      ]
    },
    {
      "cell_type": "code",
      "execution_count": null,
      "metadata": {
        "execution": {
          "iopub.execute_input": "2023-09-30T15:31:42.439157Z",
          "iopub.status.busy": "2023-09-30T15:31:42.4365Z",
          "iopub.status.idle": "2023-09-30T15:31:42.449542Z",
          "shell.execute_reply": "2023-09-30T15:31:42.448605Z",
          "shell.execute_reply.started": "2023-09-30T15:31:42.439123Z"
        },
        "id": "XBnPJyS1Qxgk",
        "trusted": true
      },
      "outputs": [],
      "source": [
        "def get_top_text_ngrams(corpus, n,g):\n",
        "    vec = CountVectorizer(ngram_range=(1, 1)).fit(corpus)\n",
        "    bag_of_words = vec.transform(corpus)\n",
        "    sum_words = bag_of_words.sum(axis=0)\n",
        "    words_freq = [(word, sum_words[0, idx]) for word, idx in vec.vocabulary_.items()]\n",
        "    words_freq =sorted(words_freq, key = lambda x: x[1], reverse=True)\n",
        "    return words_freq[:n]"
      ]
    },
    {
      "cell_type": "code",
      "execution_count": null,
      "metadata": {
        "execution": {
          "iopub.execute_input": "2023-09-30T15:31:42.453083Z",
          "iopub.status.busy": "2023-09-30T15:31:42.451735Z",
          "iopub.status.idle": "2023-09-30T15:31:43.035328Z",
          "shell.execute_reply": "2023-09-30T15:31:43.034346Z",
          "shell.execute_reply.started": "2023-09-30T15:31:42.45305Z"
        },
        "id": "shURggHNQxgk",
        "trusted": true
      },
      "outputs": [],
      "source": [
        "plt.figure(figsize = (16,9))\n",
        "most_common_uni = get_top_text_ngrams(df.Pattern,10,1)\n",
        "most_common_uni = dict(most_common_uni)\n",
        "sns.barplot(x=list(most_common_uni.values()),y=list(most_common_uni.keys()));"
      ]
    },
    {
      "cell_type": "markdown",
      "metadata": {
        "id": "sJuUe742Qxgk"
      },
      "source": [
        "<a id=\"4\"></a>\n",
        "## <b>4 <span style='color:#B21010'>||</span> Data Preprocessing</b>"
      ]
    },
    {
      "cell_type": "code",
      "execution_count": null,
      "metadata": {
        "execution": {
          "iopub.execute_input": "2023-09-30T15:31:43.041769Z",
          "iopub.status.busy": "2023-09-30T15:31:43.039638Z",
          "iopub.status.idle": "2023-09-30T15:31:43.05899Z",
          "shell.execute_reply": "2023-09-30T15:31:43.05703Z",
          "shell.execute_reply.started": "2023-09-30T15:31:43.041734Z"
        },
        "id": "yja599i2Qxgk",
        "trusted": true
      },
      "outputs": [],
      "source": [
        "df2.head()"
      ]
    },
    {
      "cell_type": "code",
      "execution_count": null,
      "metadata": {
        "execution": {
          "iopub.execute_input": "2023-09-30T15:31:43.451981Z",
          "iopub.status.busy": "2023-09-30T15:31:43.451625Z",
          "iopub.status.idle": "2023-09-30T15:31:43.460529Z",
          "shell.execute_reply": "2023-09-30T15:31:43.459396Z",
          "shell.execute_reply.started": "2023-09-30T15:31:43.451949Z"
        },
        "id": "5y922xXVQxgk",
        "trusted": true
      },
      "outputs": [],
      "source": [
        "labels = df2['Tag'].unique().tolist()\n",
        "labels = [s.strip() for s in labels]\n",
        "labels"
      ]
    },
    {
      "cell_type": "code",
      "execution_count": null,
      "metadata": {
        "execution": {
          "iopub.execute_input": "2023-09-30T15:31:45.631456Z",
          "iopub.status.busy": "2023-09-30T15:31:45.631101Z",
          "iopub.status.idle": "2023-09-30T15:31:45.63873Z",
          "shell.execute_reply": "2023-09-30T15:31:45.635727Z",
          "shell.execute_reply.started": "2023-09-30T15:31:45.631426Z"
        },
        "id": "zR9LYmLiQxgk",
        "trusted": true
      },
      "outputs": [],
      "source": [
        "num_labels = len(labels)\n",
        "id2label = {id:label for id, label in enumerate(labels)}\n",
        "label2id = {label:id for id, label in enumerate(labels)}"
      ]
    },
    {
      "cell_type": "code",
      "execution_count": null,
      "metadata": {
        "execution": {
          "iopub.execute_input": "2023-09-30T15:31:45.934444Z",
          "iopub.status.busy": "2023-09-30T15:31:45.934113Z",
          "iopub.status.idle": "2023-09-30T15:31:45.941469Z",
          "shell.execute_reply": "2023-09-30T15:31:45.940382Z",
          "shell.execute_reply.started": "2023-09-30T15:31:45.934416Z"
        },
        "id": "POJz4llFQxgl",
        "trusted": true
      },
      "outputs": [],
      "source": [
        "id2label"
      ]
    },
    {
      "cell_type": "code",
      "execution_count": null,
      "metadata": {
        "execution": {
          "iopub.execute_input": "2023-09-30T15:31:46.223576Z",
          "iopub.status.busy": "2023-09-30T15:31:46.222889Z",
          "iopub.status.idle": "2023-09-30T15:31:46.229873Z",
          "shell.execute_reply": "2023-09-30T15:31:46.228984Z",
          "shell.execute_reply.started": "2023-09-30T15:31:46.223545Z"
        },
        "id": "ndjGDbgNQxgl",
        "trusted": true
      },
      "outputs": [],
      "source": [
        "label2id"
      ]
    },
    {
      "cell_type": "code",
      "execution_count": null,
      "metadata": {
        "execution": {
          "iopub.execute_input": "2023-09-30T15:31:47.053779Z",
          "iopub.status.busy": "2023-09-30T15:31:47.052759Z",
          "iopub.status.idle": "2023-09-30T15:31:47.066997Z",
          "shell.execute_reply": "2023-09-30T15:31:47.065672Z",
          "shell.execute_reply.started": "2023-09-30T15:31:47.053737Z"
        },
        "id": "3xZNy_nKQxgl",
        "trusted": true
      },
      "outputs": [],
      "source": [
        "df2['labels'] = df2['Tag'].map(lambda x: label2id[x.strip()])\n",
        "df2.head()"
      ]
    },
    {
      "cell_type": "markdown",
      "metadata": {
        "id": "V_A-Z8itQxgl"
      },
      "source": [
        "<a id=\"5\"></a>\n",
        "## <b>5 <span style='color:#B21010'>||</span> Split the data into train and test</b>"
      ]
    },
    {
      "cell_type": "code",
      "execution_count": null,
      "metadata": {
        "execution": {
          "iopub.execute_input": "2023-09-30T15:31:49.182567Z",
          "iopub.status.busy": "2023-09-30T15:31:49.182215Z",
          "iopub.status.idle": "2023-09-30T15:31:49.189437Z",
          "shell.execute_reply": "2023-09-30T15:31:49.18834Z",
          "shell.execute_reply.started": "2023-09-30T15:31:49.182537Z"
        },
        "id": "10LDOxOhQxgl",
        "trusted": true
      },
      "outputs": [],
      "source": [
        "X = list(df2['Pattern'])\n",
        "X[:5]"
      ]
    },
    {
      "cell_type": "code",
      "execution_count": null,
      "metadata": {
        "execution": {
          "iopub.execute_input": "2023-09-30T15:31:49.454118Z",
          "iopub.status.busy": "2023-09-30T15:31:49.453648Z",
          "iopub.status.idle": "2023-09-30T15:31:49.460949Z",
          "shell.execute_reply": "2023-09-30T15:31:49.459953Z",
          "shell.execute_reply.started": "2023-09-30T15:31:49.454091Z"
        },
        "id": "mKiEmGoNQxgm",
        "trusted": true
      },
      "outputs": [],
      "source": [
        "y = list(df2['labels'])\n",
        "y[:5]"
      ]
    },
    {
      "cell_type": "code",
      "execution_count": null,
      "metadata": {
        "execution": {
          "iopub.execute_input": "2023-09-30T15:31:51.051884Z",
          "iopub.status.busy": "2023-09-30T15:31:51.050816Z",
          "iopub.status.idle": "2023-09-30T15:31:51.057964Z",
          "shell.execute_reply": "2023-09-30T15:31:51.056995Z",
          "shell.execute_reply.started": "2023-09-30T15:31:51.051827Z"
        },
        "id": "I1gLQCDRQxgm",
        "trusted": true
      },
      "outputs": [],
      "source": [
        "X_train,X_test,y_train,y_test = train_test_split(X,y,random_state = 123)"
      ]
    },
    {
      "cell_type": "markdown",
      "metadata": {
        "id": "j-dsgk0HQxgm"
      },
      "source": [
        "<a id=\"6\"></a>\n",
        "## <b>6 <span style='color:#B21010'>||</span> Load BERT Pretrained model and Tokenizer</b>"
      ]
    },
    {
      "cell_type": "code",
      "execution_count": null,
      "metadata": {
        "execution": {
          "iopub.execute_input": "2023-09-30T15:31:51.371434Z",
          "iopub.status.busy": "2023-09-30T15:31:51.370801Z",
          "iopub.status.idle": "2023-09-30T15:31:55.487743Z",
          "shell.execute_reply": "2023-09-30T15:31:55.486837Z",
          "shell.execute_reply.started": "2023-09-30T15:31:51.371404Z"
        },
        "id": "wTLnIr4xQxgm",
        "trusted": true
      },
      "outputs": [],
      "source": [
        "model_name = \"bert-base-uncased\"\n",
        "max_len = 256\n",
        "\n",
        "tokenizer = BertTokenizer.from_pretrained(model_name,\n",
        "                                          max_length=max_len)\n",
        "\n",
        "model = BertForSequenceClassification.from_pretrained(model_name,\n",
        "                                                      num_labels=num_labels,\n",
        "                                                      id2label=id2label,\n",
        "                                                      label2id = label2id)"
      ]
    },
    {
      "cell_type": "markdown",
      "metadata": {
        "id": "-8ksIxt2Qxgm"
      },
      "source": [
        "<a id=\"7\"></a>\n",
        "## <b>7 <span style='color:#B21010'>||</span> Transform the data into numerical format</b>"
      ]
    },
    {
      "cell_type": "code",
      "execution_count": null,
      "metadata": {
        "execution": {
          "iopub.execute_input": "2023-09-30T15:31:55.490438Z",
          "iopub.status.busy": "2023-09-30T15:31:55.489756Z",
          "iopub.status.idle": "2023-09-30T15:31:55.553518Z",
          "shell.execute_reply": "2023-09-30T15:31:55.552645Z",
          "shell.execute_reply.started": "2023-09-30T15:31:55.490404Z"
        },
        "id": "qxfM1f44Qxgm",
        "trusted": true
      },
      "outputs": [],
      "source": [
        "train_encoding = tokenizer(X_train, truncation=True, padding=True)\n",
        "test_encoding = tokenizer(X_test, truncation=True, padding=True)"
      ]
    },
    {
      "cell_type": "code",
      "execution_count": null,
      "metadata": {
        "execution": {
          "iopub.execute_input": "2023-09-30T15:31:55.555262Z",
          "iopub.status.busy": "2023-09-30T15:31:55.554935Z",
          "iopub.status.idle": "2023-09-30T15:31:55.617199Z",
          "shell.execute_reply": "2023-09-30T15:31:55.615982Z",
          "shell.execute_reply.started": "2023-09-30T15:31:55.55523Z"
        },
        "id": "e0Kkusz0Qxgn",
        "trusted": true
      },
      "outputs": [],
      "source": [
        "full_data = tokenizer(X, truncation=True, padding=True)"
      ]
    },
    {
      "cell_type": "markdown",
      "metadata": {
        "id": "RyOAcLvdQxgn"
      },
      "source": [
        "<a id=\"8\"></a>\n",
        "## <b>8 <span style='color:#B21010'>||</span> Build Data Loader</b>\n"
      ]
    },
    {
      "cell_type": "code",
      "execution_count": null,
      "metadata": {
        "execution": {
          "iopub.execute_input": "2023-09-30T15:31:55.620031Z",
          "iopub.status.busy": "2023-09-30T15:31:55.619383Z",
          "iopub.status.idle": "2023-09-30T15:31:55.626505Z",
          "shell.execute_reply": "2023-09-30T15:31:55.625491Z",
          "shell.execute_reply.started": "2023-09-30T15:31:55.619995Z"
        },
        "id": "N0w-Q790Qxgn",
        "trusted": true
      },
      "outputs": [],
      "source": [
        "class DataLoader(Dataset):\n",
        "\n",
        "    def __init__(self, encodings, labels):\n",
        "\n",
        "        self.encodings = encodings\n",
        "        self.labels = labels\n",
        "\n",
        "    def __getitem__(self, idx):\n",
        "\n",
        "        item = {key: torch.tensor(val[idx]) for key, val in self.encodings.items()}\n",
        "        item['labels'] = torch.tensor(self.labels[idx])\n",
        "        return item\n",
        "\n",
        "    def __len__(self):\n",
        "\n",
        "        return len(self.labels)"
      ]
    },
    {
      "cell_type": "code",
      "execution_count": null,
      "metadata": {
        "execution": {
          "iopub.execute_input": "2023-09-30T15:32:25.779043Z",
          "iopub.status.busy": "2023-09-30T15:32:25.778661Z",
          "iopub.status.idle": "2023-09-30T15:32:25.783692Z",
          "shell.execute_reply": "2023-09-30T15:32:25.782699Z",
          "shell.execute_reply.started": "2023-09-30T15:32:25.779012Z"
        },
        "id": "_4NaIv69Qxgo",
        "trusted": true
      },
      "outputs": [],
      "source": [
        "train_dataloader = DataLoader(train_encoding, y_train)\n",
        "test_dataloader = DataLoader(test_encoding, y_test)"
      ]
    },
    {
      "cell_type": "code",
      "execution_count": null,
      "metadata": {
        "execution": {
          "iopub.execute_input": "2023-09-30T15:32:27.352754Z",
          "iopub.status.busy": "2023-09-30T15:32:27.351653Z",
          "iopub.status.idle": "2023-09-30T15:32:27.357509Z",
          "shell.execute_reply": "2023-09-30T15:32:27.356166Z",
          "shell.execute_reply.started": "2023-09-30T15:32:27.35271Z"
        },
        "id": "1VWMW-jcQxgo",
        "trusted": true
      },
      "outputs": [],
      "source": [
        "fullDataLoader = DataLoader(full_data, y_test)"
      ]
    },
    {
      "cell_type": "markdown",
      "metadata": {
        "id": "qTKNfaRqQxgo"
      },
      "source": [
        "<a id=\"9\"></a>\n",
        "## <b>9 <span style='color:#B21010'>||</span> Define Evaluation Metrcies</b>\n"
      ]
    },
    {
      "cell_type": "code",
      "execution_count": null,
      "metadata": {
        "execution": {
          "iopub.execute_input": "2023-09-30T15:32:29.948698Z",
          "iopub.status.busy": "2023-09-30T15:32:29.948328Z",
          "iopub.status.idle": "2023-09-30T15:32:29.958357Z",
          "shell.execute_reply": "2023-09-30T15:32:29.957128Z",
          "shell.execute_reply.started": "2023-09-30T15:32:29.948668Z"
        },
        "id": "NtCiiA1iQxgp",
        "trusted": true
      },
      "outputs": [],
      "source": [
        "def compute_metrics(pred):\n",
        "\n",
        "    labels = pred.label_ids\n",
        "    preds = pred.predictions.argmax(-1)\n",
        "    precision, recall, f1, _ = precision_recall_fscore_support(labels, preds, average='macro')\n",
        "    acc = accuracy_score(labels, preds)\n",
        "\n",
        "    return {\n",
        "        'Accuracy': acc,\n",
        "        'F1': f1,\n",
        "        'Precision': precision,\n",
        "        'Recall': recall\n",
        "    }"
      ]
    },
    {
      "cell_type": "markdown",
      "metadata": {
        "id": "eDIZN9AUQxgq"
      },
      "source": [
        "<a id=\"10\"></a>\n",
        "## <b>10 <span style='color:#B21010'>||</span> Define Training Arguments</b>\n"
      ]
    },
    {
      "cell_type": "code",
      "execution_count": null,
      "metadata": {
        "execution": {
          "iopub.execute_input": "2023-09-30T15:33:01.171655Z",
          "iopub.status.busy": "2023-09-30T15:33:01.170862Z",
          "iopub.status.idle": "2023-09-30T15:33:01.179099Z",
          "shell.execute_reply": "2023-09-30T15:33:01.178111Z",
          "shell.execute_reply.started": "2023-09-30T15:33:01.171622Z"
        },
        "id": "zCNM5WZ1Qxgq",
        "trusted": true
      },
      "outputs": [],
      "source": [
        "training_args = TrainingArguments(\n",
        "    output_dir='./output',\n",
        "    do_train=True,\n",
        "    do_eval=True,\n",
        "    num_train_epochs=100,\n",
        "    per_device_train_batch_size=32,\n",
        "    per_device_eval_batch_size=16,\n",
        "    warmup_steps=100,\n",
        "    weight_decay=0.05,\n",
        "    logging_strategy='steps',\n",
        "    logging_dir='./multi-class-logs',\n",
        "    logging_steps=50,\n",
        "    evaluation_strategy=\"steps\",\n",
        "    eval_steps=50,\n",
        "    save_strategy=\"steps\",\n",
        "    load_best_model_at_end=True\n",
        ")"
      ]
    },
    {
      "cell_type": "markdown",
      "metadata": {
        "id": "yk8PMluiQxgq"
      },
      "source": [
        "<a id=\"11\"></a>\n",
        "## <b>11 <span style='color:#B21010'>||</span> Train the model</b>\n"
      ]
    },
    {
      "cell_type": "code",
      "execution_count": null,
      "metadata": {
        "execution": {
          "iopub.execute_input": "2023-09-30T15:33:01.633604Z",
          "iopub.status.busy": "2023-09-30T15:33:01.632597Z",
          "iopub.status.idle": "2023-09-30T15:33:01.643806Z",
          "shell.execute_reply": "2023-09-30T15:33:01.642808Z",
          "shell.execute_reply.started": "2023-09-30T15:33:01.633563Z"
        },
        "id": "rtHHT-xVQxgq",
        "trusted": true
      },
      "outputs": [],
      "source": [
        "trainer = Trainer(\n",
        "    model=model,\n",
        "    args=training_args,\n",
        "    train_dataset=train_dataloader,\n",
        "    eval_dataset=test_dataloader,\n",
        "    compute_metrics= compute_metrics\n",
        ")"
      ]
    },
    {
      "cell_type": "code",
      "execution_count": null,
      "metadata": {
        "execution": {
          "iopub.execute_input": "2023-09-30T15:33:02.813928Z",
          "iopub.status.busy": "2023-09-30T15:33:02.813552Z",
          "iopub.status.idle": "2023-09-30T15:35:34.063598Z",
          "shell.execute_reply": "2023-09-30T15:35:34.06237Z",
          "shell.execute_reply.started": "2023-09-30T15:33:02.813881Z"
        },
        "id": "fwfp2Bi6Qxgr",
        "trusted": true
      },
      "outputs": [],
      "source": [
        "trainer.train()"
      ]
    },
    {
      "cell_type": "markdown",
      "metadata": {
        "id": "OerKgchnQxgr"
      },
      "source": [
        "<a id=\"12\"></a>\n",
        "## <b>12 <span style='color:#B21010'>||</span> Evaluate the model</b>\n"
      ]
    },
    {
      "cell_type": "code",
      "execution_count": null,
      "metadata": {
        "execution": {
          "iopub.execute_input": "2023-09-30T15:35:34.075408Z",
          "iopub.status.busy": "2023-09-30T15:35:34.069364Z",
          "iopub.status.idle": "2023-09-30T15:35:35.119674Z",
          "shell.execute_reply": "2023-09-30T15:35:35.118598Z",
          "shell.execute_reply.started": "2023-09-30T15:35:34.075361Z"
        },
        "id": "zphpFppeQxgr",
        "trusted": true
      },
      "outputs": [],
      "source": [
        "q=[trainer.evaluate(eval_dataset=df2) for df2 in [train_dataloader, test_dataloader]]\n",
        "\n",
        "pd.DataFrame(q, index=[\"train\",\"test\"]).iloc[:,:5]"
      ]
    },
    {
      "cell_type": "code",
      "execution_count": null,
      "metadata": {
        "execution": {
          "iopub.execute_input": "2023-09-30T15:35:35.127014Z",
          "iopub.status.busy": "2023-09-30T15:35:35.121262Z",
          "iopub.status.idle": "2023-09-30T15:35:35.137083Z",
          "shell.execute_reply": "2023-09-30T15:35:35.135997Z",
          "shell.execute_reply.started": "2023-09-30T15:35:35.12697Z"
        },
        "id": "APX0L45eQxgr",
        "trusted": true
      },
      "outputs": [],
      "source": [
        "def predict(text):\n",
        "\n",
        "    inputs = tokenizer(text, padding=True, truncation=True, max_length=512, return_tensors=\"pt\").to(\"cuda\")\n",
        "    outputs = model(**inputs)\n",
        "\n",
        "    probs = outputs[0].softmax(1)\n",
        "    pred_label_idx = probs.argmax()\n",
        "    pred_label = model.config.id2label[pred_label_idx.item()]\n",
        "\n",
        "    return probs, pred_label_idx, pred_label"
      ]
    },
    {
      "cell_type": "code",
      "execution_count": null,
      "metadata": {
        "execution": {
          "iopub.execute_input": "2023-09-30T15:35:35.143233Z",
          "iopub.status.busy": "2023-09-30T15:35:35.14286Z",
          "iopub.status.idle": "2023-09-30T15:35:36.054304Z",
          "shell.execute_reply": "2023-09-30T15:35:36.053336Z",
          "shell.execute_reply.started": "2023-09-30T15:35:35.143199Z"
        },
        "id": "5rLNO1PuQxgr",
        "trusted": true
      },
      "outputs": [],
      "source": [
        "text = \"Hello\"\n",
        "predict(text)"
      ]
    },
    {
      "cell_type": "markdown",
      "metadata": {
        "id": "Kou1EyHPQxgr"
      },
      "source": [
        "<a id=\"13\"></a>\n",
        "## <b>13 <span style='color:#B21010'>||</span> Save the model</b>\n"
      ]
    },
    {
      "cell_type": "code",
      "execution_count": null,
      "metadata": {
        "execution": {
          "iopub.execute_input": "2023-09-30T15:35:36.056314Z",
          "iopub.status.busy": "2023-09-30T15:35:36.055737Z",
          "iopub.status.idle": "2023-09-30T15:35:36.820383Z",
          "shell.execute_reply": "2023-09-30T15:35:36.819141Z",
          "shell.execute_reply.started": "2023-09-30T15:35:36.056281Z"
        },
        "id": "su31MjY-Qxgs",
        "trusted": true
      },
      "outputs": [],
      "source": [
        "model_path = \"chatbot\"\n",
        "trainer.save_model(model_path)\n",
        "tokenizer.save_pretrained(model_path)"
      ]
    },
    {
      "cell_type": "code",
      "execution_count": null,
      "metadata": {
        "execution": {
          "iopub.execute_input": "2023-09-30T15:35:36.822382Z",
          "iopub.status.busy": "2023-09-30T15:35:36.821815Z",
          "iopub.status.idle": "2023-09-30T15:39:10.210695Z",
          "shell.execute_reply": "2023-09-30T15:39:10.209425Z",
          "shell.execute_reply.started": "2023-09-30T15:35:36.822342Z"
        },
        "id": "2uFJr_HMQxgs",
        "trusted": true
      },
      "outputs": [],
      "source": [
        "!pip install xformers"
      ]
    },
    {
      "cell_type": "markdown",
      "metadata": {
        "id": "K3T0eM1sQxgs"
      },
      "source": [
        "<a id=\"14\"></a>\n",
        "## <b>14 <span style='color:#B21010'>||</span> Load the model</b>\n"
      ]
    },
    {
      "cell_type": "code",
      "execution_count": null,
      "metadata": {
        "execution": {
          "iopub.execute_input": "2023-09-30T15:39:10.224274Z",
          "iopub.status.busy": "2023-09-30T15:39:10.220644Z",
          "iopub.status.idle": "2023-09-30T15:39:24.712103Z",
          "shell.execute_reply": "2023-09-30T15:39:24.710929Z",
          "shell.execute_reply.started": "2023-09-30T15:39:10.224222Z"
        },
        "id": "yo98i-RKQxgs",
        "trusted": true
      },
      "outputs": [],
      "source": [
        "model_path = \"/kaggle/working/chatbot\"\n",
        "\n",
        "\n",
        "model = BertForSequenceClassification.from_pretrained(model_path)\n",
        "tokenizer= BertTokenizerFast.from_pretrained(model_path)\n",
        "chatbot= pipeline(\"sentiment-analysis\", model=model, tokenizer=tokenizer)"
      ]
    },
    {
      "cell_type": "code",
      "execution_count": null,
      "metadata": {
        "execution": {
          "iopub.execute_input": "2023-09-30T15:39:24.71831Z",
          "iopub.status.busy": "2023-09-30T15:39:24.71743Z",
          "iopub.status.idle": "2023-09-30T15:39:25.03736Z",
          "shell.execute_reply": "2023-09-30T15:39:25.028152Z",
          "shell.execute_reply.started": "2023-09-30T15:39:24.718268Z"
        },
        "id": "Bklqs6jsQxgt",
        "trusted": true
      },
      "outputs": [],
      "source": [
        "chatbot(\"Hello\")"
      ]
    },
    {
      "cell_type": "markdown",
      "metadata": {
        "id": "by-bjU6hQxgt"
      },
      "source": [
        "<a id=\"15\"></a>\n",
        "## <b>15 <span style='color:#B21010'>||</span> Chat with the Chatbot</b>\n"
      ]
    },
    {
      "cell_type": "code",
      "execution_count": null,
      "metadata": {
        "execution": {
          "iopub.execute_input": "2023-09-30T15:59:36.226377Z",
          "iopub.status.busy": "2023-09-30T15:59:36.226034Z",
          "iopub.status.idle": "2023-09-30T15:59:36.23866Z",
          "shell.execute_reply": "2023-09-30T15:59:36.237687Z",
          "shell.execute_reply.started": "2023-09-30T15:59:36.226349Z"
        },
        "id": "0ceYIz6MQxgt",
        "trusted": true
      },
      "outputs": [],
      "source": [
        "def chat(chatbot):\n",
        "\n",
        "    print(\"Chatbot: Hi! I am your virtual assistance,Feel free to ask, and I'll do my best to provide you with answers and assistance..\")\n",
        "    print(\"Type 'quit' to exit the chat\\n\\n\")\n",
        "\n",
        "    text = input(\"User: \").strip().lower()\n",
        "\n",
        "    while(text != 'quit'):\n",
        "\n",
        "        score = chatbot(text)[0]['score']\n",
        "\n",
        "        if score < 0.8:\n",
        "            print(\"Chatbot: Sorry I can't answer that\\n\\n\")\n",
        "            text = input(\"User: \").strip().lower()\n",
        "            continue\n",
        "\n",
        "        label = label2id[chatbot(text)[0]['label']]\n",
        "        response = random.choice(intents['intents'][label]['responses'])\n",
        "\n",
        "        print(f\"Chatbot: {response}\\n\\n\")\n",
        "\n",
        "        text = input(\"User: \").strip().lower()\n"
      ]
    },
    {
      "cell_type": "code",
      "execution_count": null,
      "metadata": {
        "execution": {
          "iopub.execute_input": "2023-09-30T16:00:12.577517Z",
          "iopub.status.busy": "2023-09-30T16:00:12.577171Z",
          "iopub.status.idle": "2023-09-30T16:03:58.760569Z",
          "shell.execute_reply": "2023-09-30T16:03:58.759239Z",
          "shell.execute_reply.started": "2023-09-30T16:00:12.577482Z"
        },
        "id": "ynvsrzwQQxgt",
        "trusted": true
      },
      "outputs": [],
      "source": [
        "chat(chatbot)"
      ]
    },
    {
      "cell_type": "markdown",
      "metadata": {
        "id": "UnEynaIkQxgu"
      },
      "source": [
        "<a id=\"16\"></a>\n",
        "## <b>16 <span style='color:#B21010'>||</span>Author Message</b>"
      ]
    },
    {
      "cell_type": "markdown",
      "metadata": {
        "id": "upS3iPj1Qxgu"
      },
      "source": [
        "<p style=\"background-color:#DEF5B9;font-family:newtimeroman;color:#1D3E06;font-size:130%;text-align:center;border-radius:20px 20px;\"> If you liked this Notebook, please do upvote.<br> If you have any questions, feel free to comment!<br> If you have any advice for me I will be grateful to leave it to me in the comments!<br>✨Best Wishes✨</p>"
      ]
    }
  ],
  "metadata": {
    "colab": {
      "provenance": []
    },
    "kaggle": {
      "accelerator": "none",
      "dataSources": [
        {
          "datasetId": 467821,
          "sourceId": 877819,
          "sourceType": "datasetVersion"
        },
        {
          "datasetId": 2915525,
          "sourceId": 5024271,
          "sourceType": "datasetVersion"
        }
      ],
      "dockerImageVersionId": 30527,
      "isGpuEnabled": false,
      "isInternetEnabled": false,
      "language": "python",
      "sourceType": "notebook"
    },
    "kernelspec": {
      "display_name": "Python 3",
      "language": "python",
      "name": "python3"
    },
    "language_info": {
      "codemirror_mode": {
        "name": "ipython",
        "version": 3
      },
      "file_extension": ".py",
      "mimetype": "text/x-python",
      "name": "python",
      "nbconvert_exporter": "python",
      "pygments_lexer": "ipython3",
      "version": "3.9.6"
    }
  },
  "nbformat": 4,
  "nbformat_minor": 0
}
