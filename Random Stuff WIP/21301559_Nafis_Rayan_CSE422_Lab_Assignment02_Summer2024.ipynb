{
  "nbformat": 4,
  "nbformat_minor": 0,
  "metadata": {
    "colab": {
      "provenance": []
    },
    "kernelspec": {
      "name": "python3",
      "display_name": "Python 3"
    },
    "language_info": {
      "name": "python"
    }
  },
  "cells": [
    {
      "cell_type": "code",
      "execution_count": 6,
      "metadata": {
        "colab": {
          "base_uri": "https://localhost:8080/"
        },
        "id": "litFfZN5O7e5",
        "outputId": "ca6ce5a1-8723-4159-fa00-561ffdc71f04"
      },
      "outputs": [
        {
          "output_type": "stream",
          "name": "stdout",
          "text": [
            "3 3\n",
            "CSE110\n",
            "PHY112\n",
            "MAT110\n",
            "Best Chromosome: 010001100\n",
            "Best Fitness: 0\n"
          ]
        }
      ],
      "source": [
        "#TASK 1\n",
        "\n",
        "import random\n",
        "\n",
        "def create_chromosome(n, t):\n",
        "    return ''.join(random.choice('01') for _ in range(n * t))\n",
        "\n",
        "def fitness_function(chromosome, n, t):\n",
        "    overlap_penalty = 0\n",
        "    consistency_penalty = 0\n",
        "\n",
        "    courses = []\n",
        "    i = 0\n",
        "    while i < len(chromosome):\n",
        "        courses.append(chromosome[i:i + n])\n",
        "        i += n\n",
        "\n",
        "\n",
        "    for timeslot in courses:\n",
        "        num_courses = sum(int(part) for part in timeslot)\n",
        "        if num_courses > 1:\n",
        "            overlap_penalty += num_courses - 1\n",
        "\n",
        "    for i in range(n):\n",
        "        course_schedule_parts = [courses[j][i] for j in range(t)]\n",
        "        num_scheduled_times = sum(int(part) for part in course_schedule_parts)\n",
        "        if num_scheduled_times != 1:\n",
        "            consistency_penalty += abs(num_scheduled_times - 1)\n",
        "\n",
        "    return - (overlap_penalty + consistency_penalty)\n",
        "\n",
        "def choose_parents(population_schedules, fitness_scores):\n",
        "    total_fitness = sum(fitness_scores)\n",
        "    selection_probabilities = [fitness / total_fitness for fitness in fitness_scores]\n",
        "    parents = random.choices(population_schedules, weights=selection_probabilities, k=2)\n",
        "    return parents\n",
        "\n",
        "def run_crossover(parentOne, parentTwo, n, t):\n",
        "    crossover_index = random.randint(1, len(parentOne) - 1)\n",
        "    child1 = parentOne[:crossover_index] + parentTwo[crossover_index:]\n",
        "    child2 = parentTwo[:crossover_index] + parentOne[crossover_index:]\n",
        "    return child1, child2\n",
        "\n",
        "def run_mutate(chromosome, mutationRate):\n",
        "    mutatedChromosome = ''\n",
        "    for part in chromosome:\n",
        "        if random.random() < mutationRate:\n",
        "            mutatedChromosome += '1' if part == '0' else '0'\n",
        "        else:\n",
        "            mutatedChromosome += part\n",
        "    return mutatedChromosome\n",
        "\n",
        "def run_genetic_algorithm(n, t, population_len, max_iterations, mutationRate):\n",
        "    population_value = [create_chromosome(n, t) for _ in range(population_len)]\n",
        "\n",
        "    for _ in range(max_iterations):\n",
        "        fitness_scores = [fitness_function(chromosome, n, t) for chromosome in population_value]\n",
        "        max_fitness = max(fitness_scores)\n",
        "        if max_fitness == 0:\n",
        "            break\n",
        "\n",
        "        new_population_schedules = []\n",
        "        for _ in range(population_len // 2):\n",
        "            parents = choose_parents(population_value, fitness_scores)\n",
        "            child1, child2 = run_crossover(parents[0], parents[1], n, t)\n",
        "            mutated_child1 = run_mutate(child1, mutationRate)\n",
        "            mutated_child2 = run_mutate(child2, mutationRate)\n",
        "            new_population_schedules.extend([mutated_child1, mutated_child2])\n",
        "\n",
        "        population_value = new_population_schedules\n",
        "\n",
        "    best_chromosome = max(population_value, key=lambda x: fitness_function(x, n, t))\n",
        "    return best_chromosome, fitness_function(best_chromosome, n, t)\n",
        "\n",
        "n, t = map(int, input().split())\n",
        "courses = [input() for _ in range(n)]\n",
        "\n",
        "best_chromosome, fitness_value = run_genetic_algorithm(n, t, 100, 100, 0.01)\n",
        "\n",
        "print(\"Best Chromosome:\", best_chromosome)\n",
        "print(\"Best Fitness:\", fitness_value)\n",
        "\n",
        "\n",
        "# 3 3\n",
        "# CSE110\n",
        "# PHY112\n",
        "# MAT110"
      ]
    },
    {
      "cell_type": "code",
      "source": [
        "import random\n",
        "\n",
        "def create_chromosome(n, t):\n",
        "  return ''.join(random.choice('01') for _ in range(n*t))\n",
        "\n",
        "def choose_parents(population_schedules, n_parents):\n",
        "  return random.sample(population_schedules, n_parents)\n",
        "\n",
        "def twoPoint_crossover(parentOne, parentTwo, n, t):\n",
        "  idx = sorted(random.sample(range(1, len(parentOne)), 2))\n",
        "  child1 = parentOne[:idx[0]] + parentTwo[idx[0]:idx[1]] + parentOne[idx[1]:]\n",
        "  child2 = parentTwo[:idx[0]] + parentOne[idx[0]:idx[1]] + parentTwo[idx[1]:]\n",
        "  return child1, child2\n",
        "\n",
        "n = 3\n",
        "t = 3\n",
        "population_schedules = [create_chromosome(n, t) for _ in range(10)]\n",
        "\n",
        "parents = choose_parents(population_schedules, 2)\n",
        "\n",
        "child1, child2 = twoPoint_crossover(parents[0], parents[1], n, t)\n",
        "\n",
        "print(\"Parent 1:\", parents[0])\n",
        "print(\"Parent 2:\", parents[1])\n",
        "print(\"Offspring 1:\", child1)\n",
        "print(\"Offspring 2:\", child2)"
      ],
      "metadata": {
        "colab": {
          "base_uri": "https://localhost:8080/"
        },
        "id": "QSscxw1sRzAE",
        "outputId": "ab5b94fd-3b8b-4286-b654-82da4008d47b"
      },
      "execution_count": 5,
      "outputs": [
        {
          "output_type": "stream",
          "name": "stdout",
          "text": [
            "Parent 1: 000101010\n",
            "Parent 2: 111000000\n",
            "Offspring 1: 011001010\n",
            "Offspring 2: 100100000\n"
          ]
        }
      ]
    },
    {
      "cell_type": "code",
      "source": [],
      "metadata": {
        "id": "mUAx3tFFeAWo"
      },
      "execution_count": 4,
      "outputs": []
    }
  ]
}